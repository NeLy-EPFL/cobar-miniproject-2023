{
 "cells": [
  {
   "cell_type": "markdown",
   "metadata": {
    "id": "s9inUQNMEaCz"
   },
   "source": [
    "# COBAR 2023 Locomotion Code Submission\n",
    "\n",
    "Please use this template to submit your code for your COBAR miniproject.\n",
    "\n",
    "**PLEASE READ THE INSTRUCTIONS BELOW CAREFULLY.**\n",
    "\n",
    "**Google Colab:** It is your responsibility to make sure that your code can be executed without error on Google Colab. You may use your own machine for development, but in the end we will use Colab to determine whether your code runs. You need to select a GPU instance on Google Colab for this notebook. Go to \"Runtime\" > \"Change runtime type\", select \"GPU\" under \"Hardware accelerator\" and click \"Save.\"\n",
    "\n",
    "**Where to put your code:** Please only fill your code in places indicated by the following. These cells are provided flexibly enough, and you should be able to easily add your custom import/loading/preprocessing/stepping code. You may also use common `*.py` module files and import functions/classes from these modules.\n",
    "```Python\n",
    "# ========== YOUR CODE BELOW ==========\n",
    "... write your code here\n",
    "# ^^^^^^^^^^ END OF YOUR CODE ^^^^^^^^^\n",
    "```\n",
    "\n",
    "**Terrain types:** Once you have completed this notebook for flat terrain, duplicate 2 more copies of this notebook, and change the terrain type to \"gapped\" and \"blocks\" respectively. Make sure you can run all three notebooks on Colab.\n",
    "\n",
    "\n",
    "**What to submit:** Please submit the following files via Moodle:\n",
    "1. The three *executed* notebooks (ie. the outputs of the code blocks are printed). Name these files \"submission_flat.ipynb\", \"submission_gapped.ipynb\", and \"submission_blocks.ipynb\"\n",
    "2. The three output videos: \"output_flat.mp4\", \"output_gapped.mp4\", and \"output_blocks.mp4\"\n",
    "3. Any data file that are required for the notebooks to run (eg. parameter files, additional configurations, ...). In other words, include any file that you are loading to the notebooks. We will download these files to the same directory/folder as the notebook files before running the notebooks.\n",
    "4. If you have any `*.py` module file from which you imported variables, functions, or classes, included these files too.\n",
    "\n",
    "---"
   ]
  },
  {
   "cell_type": "code",
   "execution_count": null,
   "metadata": {
    "cellView": "form",
    "colab": {
     "base_uri": "https://localhost:8080/"
    },
    "id": "1f8eXBnSENTw",
    "outputId": "f2dc3629-c134-42d6-f05e-d6d56dc54119"
   },
   "outputs": [],
   "source": [
    "# #@title Install `flygym` on Colab\n",
    "\n",
    "# # This block is modified from dm_control's tutorial notebook\n",
    "# # https://github.com/deepmind/dm_control/blob/main/tutorial.ipynb\n",
    "\n",
    "try:\n",
    "  import google.colab\n",
    "  IN_COLAB = True\n",
    "except:\n",
    "  IN_COLAB = False\n",
    "\n",
    "if IN_COLAB:\n",
    "    import subprocess\n",
    "    if subprocess.run('nvidia-smi').returncode:\n",
    "        raise RuntimeError(\n",
    "            'Cannot communicate with GPU. '\n",
    "            'Make sure you are using a GPU Colab runtime. '\n",
    "            'Go to the Runtime menu and select Choose runtime type.')\n",
    "\n",
    "    print('Installing flygym')\n",
    "    !pip install -q --progress-bar=off 'flygym[mujoco] @ git+https://github.com/NeLy-EPFL/flygym.git'\n",
    "\n",
    "    # Configure dm_control to use the EGL rendering backend (requires GPU)\n",
    "    %env MUJOCO_GL=egl\n",
    "\n",
    "    print('Checking that the dm_control installation succeeded...')\n",
    "    try:\n",
    "        from dm_control import suite\n",
    "        env = suite.load('cartpole', 'swingup')\n",
    "        pixels = env.physics.render()\n",
    "    except Exception as e:\n",
    "        raise e from RuntimeError(\n",
    "            'Something went wrong during dm_control installation. Check the shell '\n",
    "            'output above for more information.\\n'\n",
    "            'If using a hosted Colab runtime, make sure you enable GPU acceleration '\n",
    "            'by going to the Runtime menu and selecting \"Choose runtime type\".')\n",
    "    else:\n",
    "        del pixels, suite\n",
    "\n",
    "    print('Checking that the flygym installation succeeded...')\n",
    "    try:\n",
    "        import flygym\n",
    "        from flygym import envs\n",
    "    except Exception as e:\n",
    "        raise e from RuntimeError(\n",
    "            'Something went wrong during flygym installation. Check the shell '\n",
    "            'output above for more information.\\n')\n",
    "    else:\n",
    "        del envs, flygym\n",
    "else:\n",
    "    print('Skipping - not on Colab')"
   ]
  },
  {
   "cell_type": "markdown",
   "metadata": {
    "id": "_09Nq2AyDvgP"
   },
   "source": [
    "You may install any additional packages here with pip. NumPy should already be installed; it's merely a demonstration of the syntax."
   ]
  },
  {
   "cell_type": "code",
   "execution_count": null,
   "metadata": {
    "colab": {
     "base_uri": "https://localhost:8080/"
    },
    "id": "6kaP_3QlDirZ",
    "outputId": "fa9b8b46-cb37-4499-f4c3-3a48d882cb13"
   },
   "outputs": [],
   "source": [
    "# ========== YOUR CODE BELOW ==========\n",
    "!pip install numpy\n",
    "# ^^^^^^^^^^ END OF YOUR CODE ^^^^^^^^^"
   ]
  },
  {
   "cell_type": "markdown",
   "metadata": {
    "id": "pOj7kzbaEQur"
   },
   "source": [
    "The following are some of the modules imported in the demo notebooks:"
   ]
  },
  {
   "cell_type": "code",
   "execution_count": null,
   "metadata": {
    "id": "K9TrU9YNbMoT"
   },
   "outputs": [],
   "source": [
    "import numpy as np\n",
    "import pkg_resources\n",
    "import pickle\n",
    "import matplotlib.pyplot as plt\n",
    "from pathlib import Path\n",
    "from flygym.envs.nmf_mujoco import NeuroMechFlyMuJoCo\n",
    "from tqdm import trange\n",
    "from flygym.util.config import all_leg_dofs"
   ]
  },
  {
   "cell_type": "markdown",
   "metadata": {
    "id": "Ja3jvs8xEWfI"
   },
   "source": [
    "You may import any additional modules here:"
   ]
  },
  {
   "cell_type": "code",
   "execution_count": null,
   "metadata": {
    "id": "ii-D7Qd8EaKk"
   },
   "outputs": [],
   "source": [
    "# ========== YOUR CODE BELOW ==========\n",
    "\n",
    "# ^^^^^^^^^^ END OF YOUR CODE ^^^^^^^^^"
   ]
  },
  {
   "cell_type": "markdown",
   "metadata": {
    "id": "CjWyMS4dE8eC"
   },
   "source": [
    "We select the terrain type here. **YOUR CODE MUST STILL WORK IF THIS IS CHANGED TO gapped OR blocks!**"
   ]
  },
  {
   "cell_type": "code",
   "execution_count": null,
   "metadata": {
    "id": "tMKgAXH_E6UO"
   },
   "outputs": [],
   "source": [
    "terrain_type = 'flat'  # or 'gapped' or 'blocks'"
   ]
  },
  {
   "cell_type": "markdown",
   "metadata": {
    "id": "diX6qf_jEwXo"
   },
   "source": [
    "We define some other physics parameters. Thess must not be changed."
   ]
  },
  {
   "cell_type": "code",
   "execution_count": null,
   "metadata": {
    "id": "Br2QK0vyboa0"
   },
   "outputs": [],
   "source": [
    "run_time = 1\n",
    "out_dir = Path(f'contest_submission_{terrain_type}')\n",
    "\n",
    "friction = 1.0\n",
    "\n",
    "physics_config = {\n",
    "    'joint_stiffness': 2500,\n",
    "    'friction': (friction, 0.005, 0.0001),\n",
    "    'gravity': (0, 0, -9.81e5)}\n",
    "terrain_config = {'fly_pos': (0, 0, 300),\n",
    "                  'friction': (friction, 0.005, 0.0001)}"
   ]
  },
  {
   "cell_type": "markdown",
   "metadata": {
    "id": "X1E4GsM8FR5G"
   },
   "source": [
    "You may load any preprogrammed data here and manipulate them as needed. This can include reference step kinematics (as used in the decentralized control and centralized control notebooks), or parameter files for your artificial neural network:"
   ]
  },
  {
   "cell_type": "code",
   "execution_count": null,
   "metadata": {
    "id": "lpSdTUOVFfS3"
   },
   "outputs": [],
   "source": [
    "# ========== YOUR CODE BELOW ==========\n",
    "    \n",
    "# ^^^^^^^^^^ END OF YOUR CODE ^^^^^^^^^"
   ]
  },
  {
   "cell_type": "markdown",
   "metadata": {
    "id": "H4m0VXIKFHHS"
   },
   "source": [
    "Next, initiate your NeuroMechFly simulation environment."
   ]
  },
  {
   "cell_type": "code",
   "execution_count": null,
   "metadata": {
    "id": "iNsoXWpNFNUr"
   },
   "outputs": [],
   "source": [
    "# ========== YOUR CODE BELOW ==========\n",
    "nmf = ...\n",
    "# ^^^^^^^^^^ END OF YOUR CODE ^^^^^^^^^"
   ]
  },
  {
   "cell_type": "markdown",
   "metadata": {
    "id": "Gdn8dOZRGGwT"
   },
   "source": [
    "You can add arbitrary code here after initializing the `nmf` object and before running the simulation loop:"
   ]
  },
  {
   "cell_type": "code",
   "execution_count": null,
   "metadata": {
    "id": "fhxvAtqjCLdd"
   },
   "outputs": [],
   "source": [
    "# ========== YOUR CODE BELOW ==========\n",
    "\n",
    "# ^^^^^^^^^^ END OF YOUR CODE ^^^^^^^^^"
   ]
  },
  {
   "cell_type": "markdown",
   "metadata": {
    "id": "g9viB6l2CLde"
   },
   "source": [
    "Now, run the simulation:"
   ]
  },
  {
   "cell_type": "code",
   "execution_count": null,
   "metadata": {
    "colab": {
     "base_uri": "https://localhost:8080/"
    },
    "id": "0W5J0shFbtJZ",
    "outputId": "f747942c-8732-4bca-9188-799492901172"
   },
   "outputs": [],
   "source": [
    "# Final preparation here\n",
    "# ========== YOUR CODE BELOW ==========\n",
    "\n",
    "# ^^^^^^^^^^ END OF YOUR CODE ^^^^^^^^^\n",
    "\n",
    "nmf.reset()\n",
    "x_pos_hist = []\n",
    "\n",
    "# Main simulation loop\n",
    "for i in trange(num_steps):\n",
    "    # You may insert any code before stepping the physics simulation...\n",
    "    # ========== YOUR CODE BELOW ==========\n",
    "    \n",
    "    # ^^^^^^^^^^ END OF YOUR CODE ^^^^^^^^^\n",
    "    \n",
    "    obs, info = nmf.step(action)\n",
    "    nmf.render()\n",
    "    \n",
    "    # ... and after stepping the physics simulation\n",
    "    # ========== YOUR CODE BELOW ==========\n",
    "    \n",
    "    # ^^^^^^^^^^ END OF YOUR CODE ^^^^^^^^^\n",
    "    \n",
    "    # Report the final x position of the base of the fly here. If you wrote\n",
    "    # a wrapper around `NeuroMechFlyMuJoCo` (for your own RL pipeline, for\n",
    "    # example), you may modify the code below to faithfully report the final\n",
    "    # x position of the base of the fly depending on your implementation.\n",
    "    # Obviously, don't hard code a very large number :)\n",
    "    # ========== YOUR CODE BELOW ==========\n",
    "    current_x_pos = obs['fly'][0, 0]\n",
    "    # ^^^^^^^^^^ END OF YOUR CODE ^^^^^^^^^\n",
    "    x_pos_hist.append(current_x_pos)\n",
    "\n",
    "# Save video here. SUBMIT THIS VIDEO ALONG WITH THE CODE!\n",
    "nmf.save_video(out_dir / f\"output_{terrain_type}.mp4\")\n",
    "\n",
    "nmf.close()\n"
   ]
  },
  {
   "cell_type": "markdown",
   "metadata": {
    "id": "Qw4IruvTpo4M"
   },
   "source": [
    "The video should have been saved to `out_dir / f\"output_{terrain_type}.mp4\"`. Check that it makes sense.\n",
    "\n",
    "Finally, let's visualize how the fly's x position changes over time:"
   ]
  },
  {
   "cell_type": "code",
   "execution_count": null,
   "metadata": {},
   "outputs": [],
   "source": [
    "plt.plot(np.arange(num_steps) * nmf.timestep, np.array(x_pos_hist) / 1000)\n",
    "plt.xlabel('Time (s)')\n",
    "plt.ylabel('x position (mm)')\n",
    "print(f'Final position: {x_pos_hist[-1] / 1000:.4f} mm')"
   ]
  }
 ],
 "metadata": {
  "accelerator": "GPU",
  "colab": {
   "provenance": []
  },
  "gpuClass": "standard",
  "kernelspec": {
   "display_name": "Python 3 (ipykernel)",
   "language": "python",
   "name": "python3"
  },
  "language_info": {
   "codemirror_mode": {
    "name": "ipython",
    "version": 3
   },
   "file_extension": ".py",
   "mimetype": "text/x-python",
   "name": "python",
   "nbconvert_exporter": "python",
   "pygments_lexer": "ipython3",
   "version": "3.9.13"
  },
  "widgets": {
   "application/vnd.jupyter.widget-state+json": {
    "011a1b7d4525408b9740ed7070061bc1": {
     "model_module": "@jupyter-widgets/controls",
     "model_module_version": "1.5.0",
     "model_name": "VideoModel",
     "state": {
      "_dom_classes": [],
      "_model_module": "@jupyter-widgets/controls",
      "_model_module_version": "1.5.0",
      "_model_name": "VideoModel",
      "_view_count": null,
      "_view_module": "@jupyter-widgets/controls",
      "_view_module_version": "1.5.0",
      "_view_name": "VideoView",
      "autoplay": true,
      "controls": true,
      "format": "mp4",
      "height": "",
      "layout": "IPY_MODEL_7b231ccdcf254c41ac80cb2c2a6f56eb",
      "loop": true,
      "width": ""
     }
    },
    "7b231ccdcf254c41ac80cb2c2a6f56eb": {
     "model_module": "@jupyter-widgets/base",
     "model_module_version": "1.2.0",
     "model_name": "LayoutModel",
     "state": {
      "_model_module": "@jupyter-widgets/base",
      "_model_module_version": "1.2.0",
      "_model_name": "LayoutModel",
      "_view_count": null,
      "_view_module": "@jupyter-widgets/base",
      "_view_module_version": "1.2.0",
      "_view_name": "LayoutView",
      "align_content": null,
      "align_items": null,
      "align_self": null,
      "border": null,
      "bottom": null,
      "display": null,
      "flex": null,
      "flex_flow": null,
      "grid_area": null,
      "grid_auto_columns": null,
      "grid_auto_flow": null,
      "grid_auto_rows": null,
      "grid_column": null,
      "grid_gap": null,
      "grid_row": null,
      "grid_template_areas": null,
      "grid_template_columns": null,
      "grid_template_rows": null,
      "height": null,
      "justify_content": null,
      "justify_items": null,
      "left": null,
      "margin": null,
      "max_height": null,
      "max_width": null,
      "min_height": null,
      "min_width": null,
      "object_fit": null,
      "object_position": null,
      "order": null,
      "overflow": null,
      "overflow_x": null,
      "overflow_y": null,
      "padding": null,
      "right": null,
      "top": null,
      "visibility": null,
      "width": null
     }
    },
    "9e7e4fc90c7b49d2ba588fcbb24c7bb7": {
     "model_module": "@jupyter-widgets/controls",
     "model_module_version": "1.5.0",
     "model_name": "VideoModel",
     "state": {
      "_dom_classes": [],
      "_model_module": "@jupyter-widgets/controls",
      "_model_module_version": "1.5.0",
      "_model_name": "VideoModel",
      "_view_count": null,
      "_view_module": "@jupyter-widgets/controls",
      "_view_module_version": "1.5.0",
      "_view_name": "VideoView",
      "autoplay": true,
      "controls": true,
      "format": "mp4",
      "height": "",
      "layout": "IPY_MODEL_f3c77bba84894ce29aeab45514aa44e5",
      "loop": true,
      "width": ""
     }
    },
    "f3c77bba84894ce29aeab45514aa44e5": {
     "model_module": "@jupyter-widgets/base",
     "model_module_version": "1.2.0",
     "model_name": "LayoutModel",
     "state": {
      "_model_module": "@jupyter-widgets/base",
      "_model_module_version": "1.2.0",
      "_model_name": "LayoutModel",
      "_view_count": null,
      "_view_module": "@jupyter-widgets/base",
      "_view_module_version": "1.2.0",
      "_view_name": "LayoutView",
      "align_content": null,
      "align_items": null,
      "align_self": null,
      "border": null,
      "bottom": null,
      "display": null,
      "flex": null,
      "flex_flow": null,
      "grid_area": null,
      "grid_auto_columns": null,
      "grid_auto_flow": null,
      "grid_auto_rows": null,
      "grid_column": null,
      "grid_gap": null,
      "grid_row": null,
      "grid_template_areas": null,
      "grid_template_columns": null,
      "grid_template_rows": null,
      "height": null,
      "justify_content": null,
      "justify_items": null,
      "left": null,
      "margin": null,
      "max_height": null,
      "max_width": null,
      "min_height": null,
      "min_width": null,
      "object_fit": null,
      "object_position": null,
      "order": null,
      "overflow": null,
      "overflow_x": null,
      "overflow_y": null,
      "padding": null,
      "right": null,
      "top": null,
      "visibility": null,
      "width": null
     }
    }
   }
  }
 },
 "nbformat": 4,
 "nbformat_minor": 1
}
