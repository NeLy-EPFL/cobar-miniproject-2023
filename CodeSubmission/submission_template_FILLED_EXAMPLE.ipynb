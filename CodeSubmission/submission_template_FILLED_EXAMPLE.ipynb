{
 "cells": [
  {
   "cell_type": "markdown",
   "metadata": {
    "id": "s9inUQNMEaCz"
   },
   "source": [
    "# COBAR 2023 Locomotion Code Submission\n",
    "\n",
    "Please use this template to submit your code for your COBAR miniproject.\n",
    "\n",
    "**PLEASE READ THE INSTRUCTIONS BELOW CAREFULLY.**\n",
    "\n",
    "**Google Colab:** It is your responsibility to make sure that your code can be executed without error on Google Colab. You may use your own machine for development, but in the end we will use Colab to determine whether your code runs. You need to select a GPU instance on Google Colab for this notebook. Go to \"Runtime\" > \"Change runtime type\", select \"GPU\" under \"Hardware accelerator\" and click \"Save.\"\n",
    "\n",
    "**Where to put your code:** Please only fill your code in places indicated by the following. These cells are provided flexibly enough, and you should be able to easily add your custom import/loading/preprocessing/stepping code. You may also use common `*.py` module files and import functions/classes from these modules.\n",
    "```Python\n",
    "# ========== YOUR CODE BELOW ==========\n",
    "... write your code here\n",
    "# ^^^^^^^^^^ END OF YOUR CODE ^^^^^^^^^\n",
    "```\n",
    "\n",
    "**Terrain types:** Once you have completed this notebook for flat terrain, duplicate 2 more copies of this notebook, and change the terrain type to \"gapped\" and \"blocks\" respectively. Make sure you can run all three notebooks on Colab.\n",
    "\n",
    "**Stabilization time:** Recall from the decentralized control demo: it might be helpful to first run a number of steps (`n_steps_stabil`) without locomotion so the fly has a chance to stabilize on the ground. This is allowed and does not count toward the 1-second simulation time.\n",
    "\n",
    "**What to submit:** Please submit the following files via Moodle:\n",
    "1. The three *executed* notebooks (ie. the outputs of the code blocks are printed). Name these files \"submission_flat.ipynb\", \"submission_gapped.ipynb\", and \"submission_blocks.ipynb\"\n",
    "2. The three output videos: \"output_flat.mp4\", \"output_gapped.mp4\", and \"output_blocks.mp4\"\n",
    "3. Any data file that are required for the notebooks to run (eg. parameter files, additional configurations, ...). In other words, include any file that you are loading to the notebooks. We will download these files to the same directory/folder as the notebook files before running the notebooks.\n",
    "4. If you have any `*.py` module file from which you imported variables, functions, or classes, included these files too.\n",
    "\n",
    "---"
   ]
  },
  {
   "cell_type": "code",
   "execution_count": 1,
   "metadata": {
    "cellView": "form",
    "colab": {
     "base_uri": "https://localhost:8080/"
    },
    "id": "1f8eXBnSENTw",
    "outputId": "f2dc3629-c134-42d6-f05e-d6d56dc54119"
   },
   "outputs": [
    {
     "name": "stdout",
     "output_type": "stream",
     "text": [
      "Skipping - not on Colab\n"
     ]
    }
   ],
   "source": [
    "# #@title Install `flygym` on Colab\n",
    "\n",
    "# # This block is modified from dm_control's tutorial notebook\n",
    "# # https://github.com/deepmind/dm_control/blob/main/tutorial.ipynb\n",
    "\n",
    "try:\n",
    "  import google.colab\n",
    "  IN_COLAB = True\n",
    "except:\n",
    "  IN_COLAB = False\n",
    "\n",
    "if IN_COLAB:\n",
    "    import subprocess\n",
    "    if subprocess.run('nvidia-smi').returncode:\n",
    "        raise RuntimeError(\n",
    "            'Cannot communicate with GPU. '\n",
    "            'Make sure you are using a GPU Colab runtime. '\n",
    "            'Go to the Runtime menu and select Choose runtime type.')\n",
    "\n",
    "    print('Installing flygym')\n",
    "    !pip install -q --progress-bar=off 'flygym[mujoco] @ git+https://github.com/NeLy-EPFL/flygym.git'\n",
    "\n",
    "    # Configure dm_control to use the EGL rendering backend (requires GPU)\n",
    "    %env MUJOCO_GL=egl\n",
    "\n",
    "    print('Checking that the dm_control installation succeeded...')\n",
    "    try:\n",
    "        from dm_control import suite\n",
    "        env = suite.load('cartpole', 'swingup')\n",
    "        pixels = env.physics.render()\n",
    "    except Exception as e:\n",
    "        raise e from RuntimeError(\n",
    "            'Something went wrong during dm_control installation. Check the shell '\n",
    "            'output above for more information.\\n'\n",
    "            'If using a hosted Colab runtime, make sure you enable GPU acceleration '\n",
    "            'by going to the Runtime menu and selecting \"Choose runtime type\".')\n",
    "    else:\n",
    "        del pixels, suite\n",
    "\n",
    "    print('Checking that the flygym installation succeeded...')\n",
    "    try:\n",
    "        import flygym\n",
    "        from flygym import envs\n",
    "    except Exception as e:\n",
    "        raise e from RuntimeError(\n",
    "            'Something went wrong during flygym installation. Check the shell '\n",
    "            'output above for more information.\\n')\n",
    "    else:\n",
    "        del envs, flygym\n",
    "else:\n",
    "    print('Skipping - not on Colab')"
   ]
  },
  {
   "cell_type": "markdown",
   "metadata": {
    "id": "_09Nq2AyDvgP"
   },
   "source": [
    "You may install any additional packages here with pip. NumPy should already be installed; it's merely a demonstration of the syntax."
   ]
  },
  {
   "cell_type": "code",
   "execution_count": 2,
   "metadata": {
    "colab": {
     "base_uri": "https://localhost:8080/"
    },
    "id": "6kaP_3QlDirZ",
    "outputId": "fa9b8b46-cb37-4499-f4c3-3a48d882cb13"
   },
   "outputs": [
    {
     "name": "stdout",
     "output_type": "stream",
     "text": [
      "Requirement already satisfied: numpy in /opt/homebrew/Caskroom/miniforge/base/envs/flygym/lib/python3.8/site-packages (1.24.2)\r\n"
     ]
    }
   ],
   "source": [
    "# ========== YOUR CODE BELOW ==========\n",
    "!pip install numpy\n",
    "# ^^^^^^^^^^ END OF YOUR CODE ^^^^^^^^^"
   ]
  },
  {
   "cell_type": "markdown",
   "metadata": {
    "id": "pOj7kzbaEQur"
   },
   "source": [
    "The following are some of the modules imported in the demo notebooks:"
   ]
  },
  {
   "cell_type": "code",
   "execution_count": 3,
   "metadata": {
    "id": "K9TrU9YNbMoT"
   },
   "outputs": [],
   "source": [
    "import numpy as np\n",
    "import pkg_resources\n",
    "import pickle\n",
    "import matplotlib.pyplot as plt\n",
    "from pathlib import Path\n",
    "from flygym.envs.nmf_mujoco import NeuroMechFlyMuJoCo\n",
    "from tqdm import trange\n",
    "from flygym.util.config import all_leg_dofs"
   ]
  },
  {
   "cell_type": "markdown",
   "metadata": {
    "id": "Ja3jvs8xEWfI"
   },
   "source": [
    "You may import any additional modules here:"
   ]
  },
  {
   "cell_type": "code",
   "execution_count": 4,
   "metadata": {
    "id": "ii-D7Qd8EaKk"
   },
   "outputs": [],
   "source": [
    "# ========== YOUR CODE BELOW ==========\n",
    "\n",
    "# ^^^^^^^^^^ END OF YOUR CODE ^^^^^^^^^"
   ]
  },
  {
   "cell_type": "markdown",
   "metadata": {
    "id": "CjWyMS4dE8eC"
   },
   "source": [
    "We select the terrain type here. **YOUR CODE MUST STILL WORK IF THIS IS CHANGED TO gapped OR blocks!**"
   ]
  },
  {
   "cell_type": "code",
   "execution_count": 5,
   "metadata": {
    "id": "tMKgAXH_E6UO"
   },
   "outputs": [],
   "source": [
    "terrain_type = 'flat'  # or 'gapped' or 'blocks'"
   ]
  },
  {
   "cell_type": "markdown",
   "metadata": {
    "id": "diX6qf_jEwXo"
   },
   "source": [
    "We define some other physics parameters. Thess must not be changed."
   ]
  },
  {
   "cell_type": "code",
   "execution_count": 6,
   "metadata": {
    "id": "Br2QK0vyboa0"
   },
   "outputs": [],
   "source": [
    "# You are allowed to slightly change the initial position of the fly\n",
    "# if it immediately gets stuck due to unfortunate initial placement\n",
    "# ========== YOUR CODE BELOW ==========\n",
    "fly_pos = (0, 0, 300)\n",
    "# ^^^^^^^^^^ END OF YOUR CODE ^^^^^^^^^\n",
    "\n",
    "run_time = 1\n",
    "out_dir = Path(f'contest_submission_{terrain_type}')\n",
    "\n",
    "friction = 1.0\n",
    "\n",
    "physics_config = {\n",
    "    'joint_stiffness': 2500,\n",
    "    'friction': (friction, 0.005, 0.0001),\n",
    "    'gravity': (0, 0, -9.81e5)}\n",
    "terrain_config = {'fly_pos': fly_pos,\n",
    "                  'friction': (friction, 0.005, 0.0001)}"
   ]
  },
  {
   "cell_type": "markdown",
   "metadata": {
    "id": "X1E4GsM8FR5G"
   },
   "source": [
    "You may load any preprogrammed data here and manipulate them as needed. This can include reference step kinematics (as used in the decentralized control and centralized control notebooks), or parameter files for your artificial neural network:"
   ]
  },
  {
   "cell_type": "code",
   "execution_count": 7,
   "metadata": {
    "id": "lpSdTUOVFfS3"
   },
   "outputs": [],
   "source": [
    "# ========== YOUR CODE BELOW ==========\n",
    "# Load recorded data\n",
    "data_path = Path(pkg_resources.resource_filename('flygym', 'data'))\n",
    "with open(data_path / 'behavior' / 'single_steps.pkl', 'rb') as f:\n",
    "    data = pickle.load(f)\n",
    "\n",
    "# Interpolate 5x\n",
    "target_timestep = 1e-4\n",
    "num_steps_base = int(run_time / target_timestep)\n",
    "step_duration = len(data['joint_LFCoxa'])\n",
    "interp_step_duration = int(step_duration * data['meta']['timestep'] / target_timestep)\n",
    "step_data_block_base = np.zeros((len(all_leg_dofs), interp_step_duration))\n",
    "measure_t = np.arange(step_duration) * data['meta']['timestep']\n",
    "interp_t = np.arange(interp_step_duration) * target_timestep\n",
    "for i, joint in enumerate(all_leg_dofs):\n",
    "    step_data_block_base[i, :] = np.interp(interp_t, measure_t, data[joint])\n",
    "    \n",
    "# Load manual adjustment data\n",
    "with open(\"manual_corrected_data.pickle\", 'rb') as f:\n",
    "    step_data_block_manualcorrect, leg_swing_starts, leg_stance_starts, n_steps_stabil = pickle.load(f)\n",
    "    \n",
    "# ^^^^^^^^^^ END OF YOUR CODE ^^^^^^^^^"
   ]
  },
  {
   "cell_type": "markdown",
   "metadata": {
    "id": "H4m0VXIKFHHS"
   },
   "source": [
    "Next, initiate your NeuroMechFly simulation environment."
   ]
  },
  {
   "cell_type": "code",
   "execution_count": 8,
   "metadata": {
    "id": "iNsoXWpNFNUr"
   },
   "outputs": [],
   "source": [
    "# ========== YOUR CODE BELOW ==========\n",
    "nmf = NeuroMechFlyMuJoCo(\n",
    "    terrain=terrain_type,\n",
    "    render_mode='saved',\n",
    "    timestep=1e-4,\n",
    "    render_config={'playspeed': 0.1, 'camera': 'Animat/camera_left_top'},\n",
    "    init_pose='stretch',\n",
    "    actuated_joints=all_leg_dofs\n",
    ")\n",
    "# ^^^^^^^^^^ END OF YOUR CODE ^^^^^^^^^"
   ]
  },
  {
   "cell_type": "markdown",
   "metadata": {
    "id": "Gdn8dOZRGGwT"
   },
   "source": [
    "You can add arbitrary code here after initializing the `nmf` object and before running the simulation loop:"
   ]
  },
  {
   "cell_type": "code",
   "execution_count": 9,
   "metadata": {
    "id": "fhxvAtqjCLdd"
   },
   "outputs": [],
   "source": [
    "# ========== YOUR CODE BELOW ==========\n",
    "# Initialize simulation\n",
    "n_stabilisation_steps = n_steps_stabil\n",
    "# Run the simulation for a few steps to stabilise the system before starting the contoller\n",
    "num_steps = num_steps_base + n_stabilisation_steps\n",
    "\n",
    "#Define rule variables\n",
    "legs = [\"RF\", \"LF\", \"RM\", \"LM\", \"RH\", \"LH\"]\n",
    "leg_ids = np.arange(len(legs)).astype(int)\n",
    "leg_corresp_id = dict(zip(legs, leg_ids))\n",
    "n_joints = len(nmf.actuated_joints)\n",
    "joint_ids = np.arange(n_joints).astype(int)\n",
    "match_leg_to_joints = np.array([i  for joint in nmf.actuated_joints for i, leg in enumerate(legs) if leg in joint])\n",
    "\n",
    "rule1_corresponding_legs = {\"LH\":[\"LM\"], \"LM\":[\"LF\"], \"LF\":[], \"RH\":[\"RM\"], \"RM\":[\"RF\"], \"RF\":[]}\n",
    "rule2_corresponding_legs = {\"LH\":[\"LM\", \"RH\"], \"LM\":[\"LF\", \"RM\"], \"LF\":[\"RF\"], \"RH\":[\"RM\", \"LH\"], \"RM\":[\"RF\", \"LM\"], \"RF\":[\"LF\"]}\n",
    "rule3_corresponding_legs = {\"LH\":[\"RH\"], \"LM\":[\"LH\", \"RM\"], \"LF\":[\"LM\", \"RF\"], \"RH\":[\"LH\"], \"RM\":[\"RH\", \"LM\"], \"RF\":[\"LF\", \"RM\"]}\n",
    "\n",
    "#Rule 1 should supress lift off (if a leg is in swing coupled legs should not be lifted most important leg to guarantee stability)\n",
    "rule1_weight = -1e4\n",
    "#Rule 2 should facilitate early protraction (upon touchdown of a leg coupled legs are encouraged to swing)\n",
    "rule2_weight = 2.5\n",
    "rule2_weight_contralateral = 1\n",
    "#Rule 3 should enforce late protraction (the later in the stance the more it facilitates stance initiation)\n",
    "rule3_weight = 3\n",
    "rule3_weight_contralateral = 2\n",
    "\n",
    "# This represents the score of each leg in the current step\n",
    "leg_scores = np.zeros(len(legs))\n",
    "all_leg_scores = np.zeros((len(legs), num_steps))\n",
    "\n",
    "# Monitor the evolution of each part of the score for each leg\n",
    "all_legs_rule1_scores = np.zeros((len(legs), num_steps))\n",
    "all_legs_rule2_scores = np.zeros((len(legs), num_steps))\n",
    "all_legs_rule3_scores = np.zeros((len(legs), num_steps))\n",
    "\n",
    "# one percent margin if leg score within this margin to the max score random choice between the very likely legs\n",
    "percent_margin = 0.001\n",
    "\n",
    "# For each leg the ids of the force sensors that are attached to it\n",
    "leg_force_sensors_ids = {leg:[] for leg in legs}\n",
    "for i, collision_geom in enumerate(nmf.collision_tracked_geoms):\n",
    "    for leg in legs:\n",
    "        if collision_geom.startswith(leg):\n",
    "            leg_force_sensors_ids[leg].append(i)\n",
    "\n",
    "\n",
    "def update_stepping_advancement(stepping_advancement, legs, interp_step_duration):\n",
    "    # Advance the stepping advancement of each leg that are stepping, reset the advancement of the legs that are done stepping\n",
    "    for k, leg in enumerate(legs):\n",
    "        if stepping_advancement[k] >= interp_step_duration-1:\n",
    "            stepping_advancement[k] = 0\n",
    "        elif stepping_advancement[k] > 0:\n",
    "            stepping_advancement[k] +=1\n",
    "    return stepping_advancement\n",
    "\n",
    "def compute_leg_scores(rule1_corresponding_legs, rule1_weight,\n",
    "                       rule2_corresponding_legs, rule2_weight, rule2_weight_contralateral,\n",
    "                       rule3_corresponding_legs, rule3_weight, rule3_weight_contralateral,\n",
    "                       stepping_advancement, leg_corresp_id, leg_stance_starts, interp_step_duration):\n",
    "    # Compute the leg scores for the current  timestep based on the rules and the stepping advancement\n",
    "    # Fills the global variables all_legs_rule1_scores, all_legs_rule2_scores, all_legs_rule3_scores, all_leg_scores to monitor the evolution of the score (debugging)\n",
    "    leg_scores = np.zeros(len(legs))\n",
    "    \n",
    "    #Iterate through legs to compute score\n",
    "    for k, leg in enumerate(legs):        \n",
    "        # For the first rule\n",
    "        leg_scores[[leg_corresp_id[l] for l in rule1_corresponding_legs[leg]]] += rule1_weight*(stepping_advancement[k]>0 and stepping_advancement[k]<leg_stance_starts[leg]).astype(float)\n",
    "        all_legs_rule1_scores[[leg_corresp_id[l] for l in rule1_corresponding_legs[leg]], i] += rule1_weight*(stepping_advancement[k]>0 and stepping_advancement[k]<leg_stance_starts[leg]).astype(float)       \n",
    "        \n",
    "        #For the second rule strong contact force happens at the beggining of the stance phase\n",
    "        for l in rule2_corresponding_legs[leg]:\n",
    "            #Decrease with stepping advancement\n",
    "            if l[0] == leg[0]:\n",
    "                #ipsilateral leg\n",
    "                leg_scores[leg_corresp_id[l]] += rule2_weight*((interp_step_duration - leg_stance_starts[leg])-(stepping_advancement[k] - leg_stance_starts[leg])) if (stepping_advancement[k] - leg_stance_starts[leg])>0 else 0\n",
    "                all_legs_rule2_scores[leg_corresp_id[l], i] += rule2_weight*((interp_step_duration - leg_stance_starts[leg])-(stepping_advancement[k] - leg_stance_starts[leg])) if (stepping_advancement[k] - leg_stance_starts[leg])>0 else 0\n",
    "            else:\n",
    "                #contralateral leg\n",
    "                leg_scores[leg_corresp_id[l]] += rule2_weight_contralateral*((interp_step_duration - leg_stance_starts[leg])-(stepping_advancement[k] - leg_stance_starts[leg])) if (stepping_advancement[k] - leg_stance_starts[leg])>0 else 0\n",
    "                all_legs_rule2_scores[leg_corresp_id[l], i] += rule2_weight_contralateral*((interp_step_duration - leg_stance_starts[leg])-(stepping_advancement[k] - leg_stance_starts[leg])) if (stepping_advancement[k] - leg_stance_starts[leg])>0 else 0\n",
    "\n",
    "        #For the third rule\n",
    "        for l in rule3_corresponding_legs[leg]:\n",
    "            #Increase with stepping advancement\n",
    "            if l[0] == leg[0]:\n",
    "                leg_scores[leg_corresp_id[l]] += rule3_weight*((stepping_advancement[k] - leg_stance_starts[leg])) if (stepping_advancement[k] - leg_stance_starts[leg])>0 else 0\n",
    "                all_legs_rule3_scores[leg_corresp_id[l], i] += rule3_weight*((stepping_advancement[k] - leg_stance_starts[leg])) if (stepping_advancement[k] - leg_stance_starts[leg])>0 else 0\n",
    "            else:\n",
    "                leg_scores[leg_corresp_id[l]] += rule3_weight_contralateral*((stepping_advancement[k] - leg_stance_starts[leg])) if (stepping_advancement[k] - leg_stance_starts[leg])>0 else 0\n",
    "                all_legs_rule3_scores[leg_corresp_id[l], i] += rule3_weight_contralateral*((stepping_advancement[k] - leg_stance_starts[leg])) if (stepping_advancement[k] - leg_stance_starts[leg])>0 else 0\n",
    "\n",
    "    return leg_scores\n",
    "\n",
    "# ^^^^^^^^^^ END OF YOUR CODE ^^^^^^^^^"
   ]
  },
  {
   "cell_type": "markdown",
   "metadata": {
    "id": "g9viB6l2CLde"
   },
   "source": [
    "Now, run the simulation:"
   ]
  },
  {
   "cell_type": "code",
   "execution_count": 10,
   "metadata": {
    "colab": {
     "base_uri": "https://localhost:8080/"
    },
    "id": "0W5J0shFbtJZ",
    "outputId": "f747942c-8732-4bca-9188-799492901172"
   },
   "outputs": [
    {
     "name": "stderr",
     "output_type": "stream",
     "text": [
      "100%|██████████████████████████████████████████████| 14800/14800 [00:34<00:00, 428.85it/s]\n"
     ]
    }
   ],
   "source": [
    "# Final preparation here\n",
    "# ========== YOUR CODE BELOW ==========\n",
    "\n",
    "np.random.seed(42)\n",
    "\n",
    "# This serves to keep track of the advancement of each leg in the stepping sequence\n",
    "stepping_advancement = np.zeros(len(legs)).astype(int)\n",
    "\n",
    "# Track the number of steps taken. It will be used to determine the stpping probability in the random stepper\n",
    "number_of_taken_steps = 0\n",
    "leg_scores = np.zeros(len(legs))\n",
    "\n",
    "obs_list_cruse_flat = []\n",
    "all_initiated_legs = []\n",
    "\n",
    "# ^^^^^^^^^^ END OF YOUR CODE ^^^^^^^^^\n",
    "\n",
    "nmf.reset()\n",
    "x_pos_hist = []\n",
    "\n",
    "# Main simulation loop\n",
    "for i in trange(num_steps):\n",
    "    # You may insert any code before stepping the physics simulation...\n",
    "    # ========== YOUR CODE BELOW ==========\n",
    "    # Decide in which leg to step\n",
    "    initiating_leg = np.argmax(leg_scores)\n",
    "    within_margin_legs = leg_scores[initiating_leg]-leg_scores <= leg_scores[initiating_leg]*percent_margin\n",
    "\n",
    "    # If multiple legs are within the margin choose randomly among those legs\n",
    "    if np.sum(within_margin_legs) > 1:\n",
    "        initiating_leg = np.random.choice(np.where(within_margin_legs)[0])\n",
    "\n",
    "    # If the maximal score is zero or less (except for the first step after stabilisation to initate the locomotion) or if the leg is already stepping\n",
    "    if (leg_scores[initiating_leg] <= 0 and not i == n_stabilisation_steps+1) or stepping_advancement[initiating_leg] > 0:\n",
    "        initiating_leg = None\n",
    "    else:\n",
    "        stepping_advancement[initiating_leg] += 1\n",
    "        all_initiated_legs.append([initiating_leg, i])\n",
    "        number_of_taken_steps += 1\n",
    "        #print(\"Stepping leg: \", legs[initiating_leg], \" at step: \", i)\n",
    "    \n",
    "    joint_pos = step_data_block_manualcorrect[joint_ids, stepping_advancement[match_leg_to_joints]]\n",
    "    action = {'joints': joint_pos}\n",
    "    # ^^^^^^^^^^ END OF YOUR CODE ^^^^^^^^^\n",
    "    \n",
    "    obs, info = nmf.step(action)\n",
    "    nmf.render()\n",
    "    \n",
    "    # ... and after stepping the physics simulation\n",
    "    # ========== YOUR CODE BELOW ==========\n",
    "    obs_list_cruse_flat.append(obs)\n",
    "\n",
    "    stepping_advancement = update_stepping_advancement(stepping_advancement, legs, interp_step_duration)\n",
    "\n",
    "    leg_scores = compute_leg_scores(rule1_corresponding_legs, rule1_weight,\n",
    "                                    rule2_corresponding_legs, rule2_weight, rule2_weight_contralateral,\n",
    "                                    rule3_corresponding_legs, rule3_weight, rule3_weight_contralateral,\n",
    "                                    stepping_advancement, leg_corresp_id, leg_stance_starts, interp_step_duration)\n",
    "        \n",
    "    all_leg_scores[:, i] = leg_scores\n",
    "    # ^^^^^^^^^^ END OF YOUR CODE ^^^^^^^^^\n",
    "    \n",
    "    # Report the final x position of the base of the fly here. If you wrote\n",
    "    # a wrapper around `NeuroMechFlyMuJoCo` (for your own RL pipeline, for\n",
    "    # example), you may modify the code below to faithfully report the final\n",
    "    # x position of the base of the fly depending on your implementation.\n",
    "    # Obviously, don't hard code a very large number :)\n",
    "    # ========== YOUR CODE BELOW ==========\n",
    "    current_x_pos = obs['fly'][0, 0]\n",
    "    # ^^^^^^^^^^ END OF YOUR CODE ^^^^^^^^^\n",
    "    x_pos_hist.append(current_x_pos)\n",
    "\n",
    "# Save video here. SUBMIT THIS VIDEO ALONG WITH THE CODE!\n",
    "nmf.save_video(out_dir / f\"output_{terrain_type}.mp4\")\n",
    "\n",
    "nmf.close()\n"
   ]
  },
  {
   "cell_type": "markdown",
   "metadata": {
    "id": "Qw4IruvTpo4M"
   },
   "source": [
    "The video should have been saved to `out_dir / f\"output_{terrain_type}.mp4\"`. Check that it makes sense.\n",
    "\n",
    "Finally, let's visualize how the fly's x position changes over time:"
   ]
  },
  {
   "cell_type": "code",
   "execution_count": 11,
   "metadata": {},
   "outputs": [
    {
     "name": "stdout",
     "output_type": "stream",
     "text": [
      "Final position: 6.5018 mm\n"
     ]
    },
    {
     "data": {
      "image/png": "[encoded data removed]",
      "text/plain": [
       "<Figure size 640x480 with 1 Axes>"
      ]
     },
     "metadata": {},
     "output_type": "display_data"
    }
   ],
   "source": [
    "plt.plot(np.arange(num_steps) * nmf.timestep, np.array(x_pos_hist) / 1000)\n",
    "plt.xlabel('Time (s)')\n",
    "plt.ylabel('x position (mm)')\n",
    "print(f'Final position: {x_pos_hist[-1] / 1000:.4f} mm')"
   ]
  }
 ],
 "metadata": {
  "accelerator": "GPU",
  "colab": {
   "provenance": []
  },
  "gpuClass": "standard",
  "kernelspec": {
   "display_name": "Python 3 (ipykernel)",
   "language": "python",
   "name": "python3"
  },
  "language_info": {
   "codemirror_mode": {
    "name": "ipython",
    "version": 3
   },
   "file_extension": ".py",
   "mimetype": "text/x-python",
   "name": "python",
   "nbconvert_exporter": "python",
   "pygments_lexer": "ipython3",
   "version": "3.8.16"
  },
  "widgets": {
   "application/vnd.jupyter.widget-state+json": {
    "011a1b7d4525408b9740ed7070061bc1": {
     "model_module": "@jupyter-widgets/controls",
     "model_module_version": "1.5.0",
     "model_name": "VideoModel",
     "state": {
      "_dom_classes": [],
      "_model_module": "@jupyter-widgets/controls",
      "_model_module_version": "1.5.0",
      "_model_name": "VideoModel",
      "_view_count": null,
      "_view_module": "@jupyter-widgets/controls",
      "_view_module_version": "1.5.0",
      "_view_name": "VideoView",
      "autoplay": true,
      "controls": true,
      "format": "mp4",
      "height": "",
      "layout": "IPY_MODEL_7b231ccdcf254c41ac80cb2c2a6f56eb",
      "loop": true,
      "width": ""
     }
    },
    "7b231ccdcf254c41ac80cb2c2a6f56eb": {
     "model_module": "@jupyter-widgets/base",
     "model_module_version": "1.2.0",
     "model_name": "LayoutModel",
     "state": {
      "_model_module": "@jupyter-widgets/base",
      "_model_module_version": "1.2.0",
      "_model_name": "LayoutModel",
      "_view_count": null,
      "_view_module": "@jupyter-widgets/base",
      "_view_module_version": "1.2.0",
      "_view_name": "LayoutView",
      "align_content": null,
      "align_items": null,
      "align_self": null,
      "border": null,
      "bottom": null,
      "display": null,
      "flex": null,
      "flex_flow": null,
      "grid_area": null,
      "grid_auto_columns": null,
      "grid_auto_flow": null,
      "grid_auto_rows": null,
      "grid_column": null,
      "grid_gap": null,
      "grid_row": null,
      "grid_template_areas": null,
      "grid_template_columns": null,
      "grid_template_rows": null,
      "height": null,
      "justify_content": null,
      "justify_items": null,
      "left": null,
      "margin": null,
      "max_height": null,
      "max_width": null,
      "min_height": null,
      "min_width": null,
      "object_fit": null,
      "object_position": null,
      "order": null,
      "overflow": null,
      "overflow_x": null,
      "overflow_y": null,
      "padding": null,
      "right": null,
      "top": null,
      "visibility": null,
      "width": null
     }
    },
    "9e7e4fc90c7b49d2ba588fcbb24c7bb7": {
     "model_module": "@jupyter-widgets/controls",
     "model_module_version": "1.5.0",
     "model_name": "VideoModel",
     "state": {
      "_dom_classes": [],
      "_model_module": "@jupyter-widgets/controls",
      "_model_module_version": "1.5.0",
      "_model_name": "VideoModel",
      "_view_count": null,
      "_view_module": "@jupyter-widgets/controls",
      "_view_module_version": "1.5.0",
      "_view_name": "VideoView",
      "autoplay": true,
      "controls": true,
      "format": "mp4",
      "height": "",
      "layout": "IPY_MODEL_f3c77bba84894ce29aeab45514aa44e5",
      "loop": true,
      "width": ""
     }
    },
    "f3c77bba84894ce29aeab45514aa44e5": {
     "model_module": "@jupyter-widgets/base",
     "model_module_version": "1.2.0",
     "model_name": "LayoutModel",
     "state": {
      "_model_module": "@jupyter-widgets/base",
      "_model_module_version": "1.2.0",
      "_model_name": "LayoutModel",
      "_view_count": null,
      "_view_module": "@jupyter-widgets/base",
      "_view_module_version": "1.2.0",
      "_view_name": "LayoutView",
      "align_content": null,
      "align_items": null,
      "align_self": null,
      "border": null,
      "bottom": null,
      "display": null,
      "flex": null,
      "flex_flow": null,
      "grid_area": null,
      "grid_auto_columns": null,
      "grid_auto_flow": null,
      "grid_auto_rows": null,
      "grid_column": null,
      "grid_gap": null,
      "grid_row": null,
      "grid_template_areas": null,
      "grid_template_columns": null,
      "grid_template_rows": null,
      "height": null,
      "justify_content": null,
      "justify_items": null,
      "left": null,
      "margin": null,
      "max_height": null,
      "max_width": null,
      "min_height": null,
      "min_width": null,
      "object_fit": null,
      "object_position": null,
      "order": null,
      "overflow": null,
      "overflow_x": null,
      "overflow_y": null,
      "padding": null,
      "right": null,
      "top": null,
      "visibility": null,
      "width": null
     }
    }
   }
  }
 },
 "nbformat": 4,
 "nbformat_minor": 1
}
